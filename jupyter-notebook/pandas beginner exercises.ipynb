{
 "cells": [
  {
   "cell_type": "markdown",
   "id": "7ad01239",
   "metadata": {},
   "source": [
    "# Python pandas exercises for beginners"
   ]
  },
  {
   "cell_type": "code",
   "execution_count": 1,
   "id": "edbb0526",
   "metadata": {},
   "outputs": [
    {
     "name": "stdout",
     "output_type": "stream",
     "text": [
      "    cars  passings\n",
      "0    BMW         3\n",
      "1  Volvo         7\n",
      "2   Ford         2\n"
     ]
    }
   ],
   "source": [
    "import pandas\n",
    "\n",
    "mydataset = {\n",
    "  'cars': [\"BMW\", \"Volvo\", \"Ford\"],\n",
    "  'passings': [3, 7, 2]\n",
    "}\n",
    "\n",
    "myvar = pandas.DataFrame(mydataset)\n",
    "\n",
    "print(myvar)"
   ]
  },
  {
   "cell_type": "markdown",
   "id": "2f578278",
   "metadata": {},
   "source": [
    "## What is a DataFrame?\n",
    "\n",
    "A Pandas DataFrame is a 2 dimensional data structure, like a 2 dimensional array, or a table with rows and columns."
   ]
  },
  {
   "cell_type": "code",
   "execution_count": 2,
   "id": "a766a311",
   "metadata": {},
   "outputs": [
    {
     "name": "stdout",
     "output_type": "stream",
     "text": [
      "   calories  duration\n",
      "0       420        50\n",
      "1       380        40\n",
      "2       390        45\n"
     ]
    }
   ],
   "source": [
    "import pandas as pd\n",
    "\n",
    "data = {\n",
    "  \"calories\": [420, 380, 390],\n",
    "  \"duration\": [50, 40, 45]\n",
    "}\n",
    "\n",
    "#load data into a DataFrame object:\n",
    "df = pd.DataFrame(data)\n",
    "\n",
    "print(df) "
   ]
  },
  {
   "cell_type": "markdown",
   "id": "52bf2809",
   "metadata": {},
   "source": [
    "## Pandas timeseries with daterange"
   ]
  },
  {
   "cell_type": "code",
   "execution_count": 4,
   "id": "20e91e9e",
   "metadata": {},
   "outputs": [
    {
     "name": "stdout",
     "output_type": "stream",
     "text": [
      "   Duration  Pulse  Maxpulse  Calories\n",
      "0        60    110       130       409\n",
      "1        60    117       145       479\n",
      "2        60    103       135       340\n",
      "3        45    109       175       282\n",
      "4        45    117       148       406\n",
      "5        60    102       127       300\n"
     ]
    }
   ],
   "source": [
    "import pandas as pd\n",
    "\n",
    "data = {\n",
    "  \"Duration\":{\n",
    "    \"0\":60,\n",
    "    \"1\":60,\n",
    "    \"2\":60,\n",
    "    \"3\":45,\n",
    "    \"4\":45,\n",
    "    \"5\":60\n",
    "  },\n",
    "  \"Pulse\":{\n",
    "    \"0\":110,\n",
    "    \"1\":117,\n",
    "    \"2\":103,\n",
    "    \"3\":109,\n",
    "    \"4\":117,\n",
    "    \"5\":102\n",
    "  },\n",
    "  \"Maxpulse\":{\n",
    "    \"0\":130,\n",
    "    \"1\":145,\n",
    "    \"2\":135,\n",
    "    \"3\":175,\n",
    "    \"4\":148,\n",
    "    \"5\":127\n",
    "  },\n",
    "  \"Calories\":{\n",
    "    \"0\":409,\n",
    "    \"1\":479,\n",
    "    \"2\":340,\n",
    "    \"3\":282,\n",
    "    \"4\":406,\n",
    "    \"5\":300\n",
    "  }\n",
    "}\n",
    "\n",
    "df = pd.DataFrame(data)\n",
    "\n",
    "print(df) "
   ]
  },
  {
   "cell_type": "markdown",
   "id": "c13b99c5",
   "metadata": {},
   "source": [
    "```Pandas can read from CSV or JSON files. It also supports dictionaries and other tabular data.```"
   ]
  },
  {
   "cell_type": "markdown",
   "id": "7274ab67",
   "metadata": {},
   "source": [
    "pandas.date_range(start=None, \n",
    "                  end=None, \n",
    "                  periods=None, \n",
    "                  freq=None, \n",
    "                  tz=None, \n",
    "                  normalize=False, \n",
    "                  name=None, \n",
    "                  closed=NoDefault.no_default, \n",
    "                  inclusive=None, \n",
    "                  **kwargs)"
   ]
  },
  {
   "cell_type": "code",
   "execution_count": 5,
   "id": "0daf9df7",
   "metadata": {},
   "outputs": [
    {
     "data": {
      "text/plain": [
       "DatetimeIndex(['2024-01-01', '2024-01-02', '2024-01-03', '2024-01-04',\n",
       "               '2024-01-05', '2024-01-06', '2024-01-07', '2024-01-08',\n",
       "               '2024-01-09', '2024-01-10', '2024-01-11', '2024-01-12',\n",
       "               '2024-01-13', '2024-01-14', '2024-01-15', '2024-01-16',\n",
       "               '2024-01-17', '2024-01-18', '2024-01-19', '2024-01-20',\n",
       "               '2024-01-21', '2024-01-22', '2024-01-23', '2024-01-24',\n",
       "               '2024-01-25', '2024-01-26', '2024-01-27', '2024-01-28',\n",
       "               '2024-01-29', '2024-01-30', '2024-01-31', '2024-02-01',\n",
       "               '2024-02-02', '2024-02-03', '2024-02-04', '2024-02-05',\n",
       "               '2024-02-06', '2024-02-07', '2024-02-08', '2024-02-09',\n",
       "               '2024-02-10', '2024-02-11', '2024-02-12', '2024-02-13',\n",
       "               '2024-02-14', '2024-02-15', '2024-02-16', '2024-02-17',\n",
       "               '2024-02-18', '2024-02-19', '2024-02-20', '2024-02-21'],\n",
       "              dtype='datetime64[ns]', freq='D')"
      ]
     },
     "execution_count": 5,
     "metadata": {},
     "output_type": "execute_result"
    }
   ],
   "source": [
    "pd.date_range(start='2024-01-01', end='2024-02-21')\n"
   ]
  },
  {
   "cell_type": "code",
   "execution_count": 9,
   "id": "3ba2bef5",
   "metadata": {},
   "outputs": [
    {
     "data": {
      "text/plain": [
       "DatetimeIndex(['2024-03-03', '2024-03-04', '2024-03-05', '2024-03-06',\n",
       "               '2024-03-07', '2024-03-08', '2024-03-09', '2024-03-10',\n",
       "               '2024-03-11', '2024-03-12', '2024-03-13', '2024-03-14',\n",
       "               '2024-03-15', '2024-03-16', '2024-03-17', '2024-03-18',\n",
       "               '2024-03-19', '2024-03-20', '2024-03-21', '2024-03-22',\n",
       "               '2024-03-23', '2024-03-24', '2024-03-25', '2024-03-26',\n",
       "               '2024-03-27', '2024-03-28', '2024-03-29', '2024-03-30',\n",
       "               '2024-03-31', '2024-04-01', '2024-04-02', '2024-04-03',\n",
       "               '2024-04-04'],\n",
       "              dtype='datetime64[ns]', freq='D')"
      ]
     },
     "execution_count": 9,
     "metadata": {},
     "output_type": "execute_result"
    }
   ],
   "source": [
    "df=pd.date_range(start='2024-03-03', end='2024-04-04',freq='D')\n",
    "df"
   ]
  },
  {
   "cell_type": "code",
   "execution_count": 10,
   "id": "51688171",
   "metadata": {},
   "outputs": [
    {
     "data": {
      "text/plain": [
       "DatetimeIndex(['2024-04-01'], dtype='datetime64[ns]', freq='MS')"
      ]
     },
     "execution_count": 10,
     "metadata": {},
     "output_type": "execute_result"
    }
   ],
   "source": [
    "df=pd.date_range(start='2024-03-03', end='2024-04-04',freq='MS')\n",
    "df"
   ]
  },
  {
   "cell_type": "markdown",
   "id": "b6f7c668",
   "metadata": {},
   "source": [
    "The periods argument is used to get a number of dates after a given start date. This is very useful for creating a future dataframe of dates in a forthcoming period when creating a time series forecast model. In the example below, we’ll create a future dataframe containing all the dates for the next 90 days after 2024-04-01."
   ]
  },
  {
   "cell_type": "code",
   "execution_count": 11,
   "id": "02f07252",
   "metadata": {},
   "outputs": [],
   "source": [
    "df= pd.date_range(start='2024-04-01', periods=90)\n"
   ]
  },
  {
   "cell_type": "code",
   "execution_count": 12,
   "id": "d7a02b48",
   "metadata": {},
   "outputs": [
    {
     "data": {
      "text/plain": [
       "DatetimeIndex(['2024-04-01', '2024-04-02', '2024-04-03', '2024-04-04',\n",
       "               '2024-04-05', '2024-04-06', '2024-04-07', '2024-04-08',\n",
       "               '2024-04-09', '2024-04-10', '2024-04-11', '2024-04-12',\n",
       "               '2024-04-13', '2024-04-14', '2024-04-15', '2024-04-16',\n",
       "               '2024-04-17', '2024-04-18', '2024-04-19', '2024-04-20',\n",
       "               '2024-04-21', '2024-04-22', '2024-04-23', '2024-04-24',\n",
       "               '2024-04-25', '2024-04-26', '2024-04-27', '2024-04-28',\n",
       "               '2024-04-29', '2024-04-30', '2024-05-01', '2024-05-02',\n",
       "               '2024-05-03', '2024-05-04', '2024-05-05', '2024-05-06',\n",
       "               '2024-05-07', '2024-05-08', '2024-05-09', '2024-05-10',\n",
       "               '2024-05-11', '2024-05-12', '2024-05-13', '2024-05-14',\n",
       "               '2024-05-15', '2024-05-16', '2024-05-17', '2024-05-18',\n",
       "               '2024-05-19', '2024-05-20', '2024-05-21', '2024-05-22',\n",
       "               '2024-05-23', '2024-05-24', '2024-05-25', '2024-05-26',\n",
       "               '2024-05-27', '2024-05-28', '2024-05-29', '2024-05-30',\n",
       "               '2024-05-31', '2024-06-01', '2024-06-02', '2024-06-03',\n",
       "               '2024-06-04', '2024-06-05', '2024-06-06', '2024-06-07',\n",
       "               '2024-06-08', '2024-06-09', '2024-06-10', '2024-06-11',\n",
       "               '2024-06-12', '2024-06-13', '2024-06-14', '2024-06-15',\n",
       "               '2024-06-16', '2024-06-17', '2024-06-18', '2024-06-19',\n",
       "               '2024-06-20', '2024-06-21', '2024-06-22', '2024-06-23',\n",
       "               '2024-06-24', '2024-06-25', '2024-06-26', '2024-06-27',\n",
       "               '2024-06-28', '2024-06-29'],\n",
       "              dtype='datetime64[ns]', freq='D')"
      ]
     },
     "execution_count": 12,
     "metadata": {},
     "output_type": "execute_result"
    }
   ],
   "source": [
    "df"
   ]
  },
  {
   "cell_type": "code",
   "execution_count": 14,
   "id": "4a17f749",
   "metadata": {},
   "outputs": [
    {
     "data": {
      "text/plain": [
       "<AxesSubplot: xlabel='alldays'>"
      ]
     },
     "execution_count": 14,
     "metadata": {},
     "output_type": "execute_result"
    },
    {
     "data": {
      "image/png": "[encoded data removed]",
      "text/plain": [
       "<Figure size 640x480 with 1 Axes>"
      ]
     },
     "metadata": {},
     "output_type": "display_data"
    }
   ],
   "source": [
    "# Create a list of data to be represented in x-axis \n",
    "days = [ 'Saturday' , 'Sunday' , 'Monday' , 'Tuesday' , \n",
    "        'Wednesday' , 'Thursday' , 'Friday' ] \n",
    "  \n",
    "# Create a list of data to be  \n",
    "# represented in y-axis \n",
    "calories = [ 1670 , 2011 , 1853 , 2557 , \n",
    "            1390 , 2118 , 2063 ] \n",
    "  \n",
    "# Create a dataframe using the two lists \n",
    "df_days_calories = pd.DataFrame( \n",
    "    { 'alldays' : days , 'calories' : calories }) \n",
    "  \n",
    "df_days_calories.plot('alldays', 'calories')"
   ]
  },
  {
   "cell_type": "code",
   "execution_count": 15,
   "id": "33a78798",
   "metadata": {},
   "outputs": [
    {
     "data": {
      "text/html": [
       "<div>\n",
       "<style scoped>\n",
       "    .dataframe tbody tr th:only-of-type {\n",
       "        vertical-align: middle;\n",
       "    }\n",
       "\n",
       "    .dataframe tbody tr th {\n",
       "        vertical-align: top;\n",
       "    }\n",
       "\n",
       "    .dataframe thead th {\n",
       "        text-align: right;\n",
       "    }\n",
       "</style>\n",
       "<table border=\"1\" class=\"dataframe\">\n",
       "  <thead>\n",
       "    <tr style=\"text-align: right;\">\n",
       "      <th></th>\n",
       "      <th>alldays</th>\n",
       "      <th>calories</th>\n",
       "    </tr>\n",
       "  </thead>\n",
       "  <tbody>\n",
       "    <tr>\n",
       "      <th>0</th>\n",
       "      <td>Saturday</td>\n",
       "      <td>1670</td>\n",
       "    </tr>\n",
       "    <tr>\n",
       "      <th>1</th>\n",
       "      <td>Sunday</td>\n",
       "      <td>2011</td>\n",
       "    </tr>\n",
       "    <tr>\n",
       "      <th>2</th>\n",
       "      <td>Monday</td>\n",
       "      <td>1853</td>\n",
       "    </tr>\n",
       "    <tr>\n",
       "      <th>3</th>\n",
       "      <td>Tuesday</td>\n",
       "      <td>2557</td>\n",
       "    </tr>\n",
       "    <tr>\n",
       "      <th>4</th>\n",
       "      <td>Wednesday</td>\n",
       "      <td>1390</td>\n",
       "    </tr>\n",
       "    <tr>\n",
       "      <th>5</th>\n",
       "      <td>Thursday</td>\n",
       "      <td>2118</td>\n",
       "    </tr>\n",
       "    <tr>\n",
       "      <th>6</th>\n",
       "      <td>Friday</td>\n",
       "      <td>2063</td>\n",
       "    </tr>\n",
       "  </tbody>\n",
       "</table>\n",
       "</div>"
      ],
      "text/plain": [
       "     alldays  calories\n",
       "0   Saturday      1670\n",
       "1     Sunday      2011\n",
       "2     Monday      1853\n",
       "3    Tuesday      2557\n",
       "4  Wednesday      1390\n",
       "5   Thursday      2118\n",
       "6     Friday      2063"
      ]
     },
     "execution_count": 15,
     "metadata": {},
     "output_type": "execute_result"
    }
   ],
   "source": [
    "df_days_calories"
   ]
  },
  {
   "cell_type": "markdown",
   "id": "b9290398",
   "metadata": {},
   "source": [
    "## You can easily go back between the plot and tabular view of panel data"
   ]
  },
  {
   "cell_type": "code",
   "execution_count": null,
   "id": "dd2057bc",
   "metadata": {},
   "outputs": [],
   "source": []
  }
 ],
 "metadata": {
  "kernelspec": {
   "display_name": "Python 3 (ipykernel)",
   "language": "python",
   "name": "python3"
  },
  "language_info": {
   "codemirror_mode": {
    "name": "ipython",
    "version": 3
   },
   "file_extension": ".py",
   "mimetype": "text/x-python",
   "name": "python",
   "nbconvert_exporter": "python",
   "pygments_lexer": "ipython3",
   "version": "3.11.6"
  }
 },
 "nbformat": 4,
 "nbformat_minor": 5
}
