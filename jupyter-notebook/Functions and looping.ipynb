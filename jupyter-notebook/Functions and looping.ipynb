{
 "cells": [
  {
   "cell_type": "markdown",
   "id": "cb378bb2",
   "metadata": {},
   "source": [
    "# Python functions and looping"
   ]
  },
  {
   "cell_type": "code",
   "execution_count": 1,
   "id": "77170056",
   "metadata": {},
   "outputs": [
    {
     "name": "stdout",
     "output_type": "stream",
     "text": [
      "8\n"
     ]
    }
   ],
   "source": [
    "def simple_func(x, y):\n",
    "    return(x ** y)\n",
    "\n",
    "powX = simple_func(2,3)\n",
    "print(powX)"
   ]
  },
  {
   "cell_type": "markdown",
   "id": "0816a30d",
   "metadata": {},
   "source": [
    "## Range functions"
   ]
  },
  {
   "cell_type": "code",
   "execution_count": 2,
   "id": "3e467a52",
   "metadata": {},
   "outputs": [
    {
     "name": "stdout",
     "output_type": "stream",
     "text": [
      "0\n",
      "1\n",
      "2\n",
      "3\n",
      "4\n",
      "5\n",
      "6\n",
      "7\n",
      "8\n",
      "9\n",
      "10\n",
      "11\n",
      "12\n",
      "13\n",
      "14\n",
      "15\n",
      "16\n",
      "17\n",
      "18\n",
      "19\n",
      "20\n",
      "21\n",
      "22\n",
      "23\n",
      "24\n",
      "25\n",
      "26\n",
      "27\n",
      "28\n",
      "29\n",
      "30\n",
      "31\n",
      "32\n",
      "33\n",
      "34\n",
      "35\n",
      "36\n",
      "37\n",
      "38\n",
      "39\n",
      "40\n",
      "41\n",
      "42\n",
      "43\n",
      "44\n",
      "45\n",
      "46\n",
      "47\n",
      "48\n",
      "49\n",
      "50\n",
      "51\n",
      "52\n",
      "53\n",
      "54\n",
      "55\n",
      "56\n",
      "57\n",
      "58\n",
      "59\n",
      "60\n",
      "61\n",
      "62\n",
      "63\n",
      "64\n",
      "65\n",
      "66\n",
      "67\n",
      "68\n",
      "69\n",
      "70\n",
      "71\n",
      "72\n",
      "73\n",
      "74\n",
      "75\n",
      "76\n",
      "77\n",
      "78\n",
      "79\n",
      "80\n",
      "81\n",
      "82\n",
      "83\n",
      "84\n",
      "85\n",
      "86\n",
      "87\n",
      "88\n",
      "89\n",
      "90\n",
      "91\n",
      "92\n",
      "93\n",
      "94\n",
      "95\n",
      "96\n",
      "97\n",
      "98\n",
      "99\n"
     ]
    }
   ],
   "source": [
    "for x in range(100):\n",
    "    print(x)"
   ]
  },
  {
   "cell_type": "code",
   "execution_count": 3,
   "id": "81f9662b",
   "metadata": {},
   "outputs": [
    {
     "name": "stdout",
     "output_type": "stream",
     "text": [
      "2\n",
      "7\n",
      "12\n",
      "17\n"
     ]
    }
   ],
   "source": [
    "for x in range(2, 20, 5):\n",
    "    print(x)"
   ]
  },
  {
   "cell_type": "markdown",
   "id": "f030b8f1",
   "metadata": {},
   "source": [
    "## Range with else"
   ]
  },
  {
   "cell_type": "code",
   "execution_count": 4,
   "id": "af423804",
   "metadata": {},
   "outputs": [
    {
     "name": "stdout",
     "output_type": "stream",
     "text": [
      "0\n",
      "1\n",
      "2\n",
      "3\n",
      "4\n",
      "5\n",
      "6\n",
      "7\n",
      "8\n",
      "9\n",
      "now call new function\n"
     ]
    }
   ],
   "source": [
    "for x in range(10):\n",
    "    print(x)\n",
    "else:\n",
    "    print('now call new function')"
   ]
  },
  {
   "cell_type": "markdown",
   "id": "7c3f70cb",
   "metadata": {},
   "source": [
    "## Nested looping"
   ]
  },
  {
   "cell_type": "code",
   "execution_count": 5,
   "id": "56cf3a88",
   "metadata": {},
   "outputs": [
    {
     "name": "stdout",
     "output_type": "stream",
     "text": [
      "Taste sweet :: Fruit apple\n",
      "Taste sweet :: Fruit banana\n",
      "Taste sweet :: Fruit pineapple\n",
      "Taste sweet :: Fruit grape\n",
      "Taste sweet :: Fruit orange\n",
      "Taste sweet :: Fruit passion fruit\n",
      "Taste sweet :: Fruit strawberry\n",
      "Taste sour :: Fruit apple\n",
      "Taste sour :: Fruit banana\n",
      "Taste sour :: Fruit pineapple\n",
      "Taste sour :: Fruit grape\n",
      "Taste sour :: Fruit orange\n",
      "Taste sour :: Fruit passion fruit\n",
      "Taste sour :: Fruit strawberry\n"
     ]
    }
   ],
   "source": [
    "taste=[\"sweet\", \"sour\"]\n",
    "fruits = [\"apple\", \"banana\", \"pineapple\", \"grape\", \"orange\", \"passion fruit\", \"strawberry\"]\n",
    "\n",
    "for t in taste:\n",
    "  for f in fruits:\n",
    "    print(f\"Taste {t} :: Fruit {f}\")"
   ]
  },
  {
   "cell_type": "markdown",
   "id": "cbe6ad30",
   "metadata": {},
   "source": [
    "Obviously that is wrong. We want to use some if condition and print only sour fruits or sweet fruits.\n",
    "\n",
    "But you know how to construct a two dimentional loop using this."
   ]
  },
  {
   "cell_type": "markdown",
   "id": "20d2d884",
   "metadata": {},
   "source": [
    "## f strings\n"
   ]
  },
  {
   "cell_type": "code",
   "execution_count": 6,
   "id": "23fe4b36",
   "metadata": {},
   "outputs": [
    {
     "name": "stdout",
     "output_type": "stream",
     "text": [
      "20 is value inside variable a and I am here is value of b\n"
     ]
    }
   ],
   "source": [
    "a=20\n",
    "b=\"I am here\"\n",
    "print(f\"{a} is value inside variable a and {b} is value of b\")"
   ]
  },
  {
   "cell_type": "markdown",
   "id": "bdc4d702",
   "metadata": {},
   "source": [
    "f strings are really cool way to format strings with a C like convenience in handling formatted outputs."
   ]
  },
  {
   "cell_type": "markdown",
   "id": "ab50080f",
   "metadata": {},
   "source": [
    "## Functions with variable arguments"
   ]
  },
  {
   "cell_type": "code",
   "execution_count": 7,
   "id": "d34b0b25",
   "metadata": {},
   "outputs": [
    {
     "name": "stdout",
     "output_type": "stream",
     "text": [
      "The args are ('Emil', 'Tobias', 'Linus', 'Girish', 'Dave')\n"
     ]
    }
   ],
   "source": [
    "def my_function(*arg):\n",
    "  print(f\"The args are {arg}\" )\n",
    "\n",
    "my_function(\"Emil\", \"Tobias\", \"Linus\", \"Girish\", \"Dave\")"
   ]
  },
  {
   "cell_type": "markdown",
   "id": "6d5a323e",
   "metadata": {},
   "source": [
    "## Python dictionaries"
   ]
  },
  {
   "cell_type": "code",
   "execution_count": 8,
   "id": "e42ecd03",
   "metadata": {},
   "outputs": [
    {
     "name": "stdout",
     "output_type": "stream",
     "text": [
      "('name', 'dunce')\n",
      "('education', 'law')\n"
     ]
    }
   ],
   "source": [
    "Persons = { \"name\": \"girish\", \"education\": \"engg\", \"name\": \"dunce\", \"education\": \"law\"}\n",
    "for pair in Persons.items():\n",
    "    print(pair)"
   ]
  },
  {
   "cell_type": "markdown",
   "id": "84fb3905",
   "metadata": {},
   "source": [
    "As you can see the pair() function prints both key and value in a dictionary."
   ]
  },
  {
   "cell_type": "code",
   "execution_count": null,
   "id": "f2827436",
   "metadata": {},
   "outputs": [],
   "source": []
  }
 ],
 "metadata": {
  "kernelspec": {
   "display_name": "Python 3 (ipykernel)",
   "language": "python",
   "name": "python3"
  },
  "language_info": {
   "codemirror_mode": {
    "name": "ipython",
    "version": 3
   },
   "file_extension": ".py",
   "mimetype": "text/x-python",
   "name": "python",
   "nbconvert_exporter": "python",
   "pygments_lexer": "ipython3",
   "version": "3.11.6"
  }
 },
 "nbformat": 4,
 "nbformat_minor": 5
}
